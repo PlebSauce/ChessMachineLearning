{
 "cells": [
  {
   "cell_type": "code",
   "execution_count": 2,
   "id": "6c86eeeb-10d0-417e-924d-60a550267500",
   "metadata": {},
   "outputs": [
    {
     "name": "stderr",
     "output_type": "stream",
     "text": [
      "C:\\Users\\jorda\\Downloads\\ChessMachineLearning\\PythonFiles\\LSTMAlgo.py:3: DeprecationWarning: \n",
      "Pyarrow will become a required dependency of pandas in the next major release of pandas (pandas 3.0),\n",
      "(to allow more performant data types, such as the Arrow string type, and better interoperability with other libraries)\n",
      "but was not found to be installed on your system.\n",
      "If this would cause problems for you,\n",
      "please provide us feedback at https://github.com/pandas-dev/pandas/issues/54466\n",
      "        \n",
      "  import pandas as pd\n"
     ]
    },
    {
     "name": "stdout",
     "output_type": "stream",
     "text": [
      "WARNING:tensorflow:From C:\\Users\\jorda\\.pyenv\\pyenv-win\\versions\\3.10.5\\lib\\site-packages\\keras\\src\\losses.py:2976: The name tf.losses.sparse_softmax_cross_entropy is deprecated. Please use tf.compat.v1.losses.sparse_softmax_cross_entropy instead.\n",
      "\n",
      "First you will select how many games a player needs to be considered in the dataset. Keep in mind higher values result in faster computing, but very few players to choose from and overfitting. Less players leads to slower computing times and less accurate data for players with low game counts.\n"
     ]
    },
    {
     "name": "stdin",
     "output_type": "stream",
     "text": [
      "Select the minimum number of games a player needs (recommended 60): 400\n"
     ]
    },
    {
     "name": "stdout",
     "output_type": "stream",
     "text": [
      "Assertion error: Out of bounds... Must be between 1-200 (inclusive)\n"
     ]
    },
    {
     "name": "stdin",
     "output_type": "stream",
     "text": [
      "Select the K value to be used for top K accuracy between 1-10 (inclusive): 400\n"
     ]
    },
    {
     "name": "stdout",
     "output_type": "stream",
     "text": [
      "Assertion error: Must be between 1-10 (inclusive)\n"
     ]
    },
    {
     "ename": "ZeroDivisionError",
     "evalue": "float division by zero",
     "output_type": "error",
     "traceback": [
      "\u001b[1;31m---------------------------------------------------------------------------\u001b[0m",
      "\u001b[1;31mZeroDivisionError\u001b[0m                         Traceback (most recent call last)",
      "File \u001b[1;32m~\\Downloads\\ChessMachineLearning\\PythonFiles\\LSTMAlgo.py:176\u001b[0m\n\u001b[0;32m    173\u001b[0m     k_accuracies[player] \u001b[38;5;241m=\u001b[39m average_k_accuracy\n\u001b[0;32m    175\u001b[0m player_ids_list \u001b[38;5;241m=\u001b[39m \u001b[38;5;28mlist\u001b[39m(models\u001b[38;5;241m.\u001b[39mkeys())\n\u001b[1;32m--> 176\u001b[0m total \u001b[38;5;241m/\u001b[39m\u001b[38;5;241m=\u001b[39m \u001b[38;5;28mlen\u001b[39m(player_ids_list)\n\u001b[0;32m    177\u001b[0m \u001b[38;5;28mprint\u001b[39m(\u001b[38;5;124m\"\u001b[39m\u001b[38;5;124mOverall average\u001b[39m\u001b[38;5;124m\"\u001b[39m, k, \u001b[38;5;124m\"\u001b[39m\u001b[38;5;124maccuracy:\u001b[39m\u001b[38;5;124m\"\u001b[39m, total)\n\u001b[0;32m    179\u001b[0m \u001b[38;5;28;01mwhile\u001b[39;00m \u001b[38;5;28;01mTrue\u001b[39;00m: \n",
      "\u001b[1;31mZeroDivisionError\u001b[0m: float division by zero"
     ]
    }
   ],
   "source": [
    "%run PythonFiles/LSTMAlgo.py"
   ]
  },
  {
   "cell_type": "code",
   "execution_count": null,
   "id": "21384ff7-6be5-43aa-a337-62573cb5fe71",
   "metadata": {},
   "outputs": [],
   "source": []
  }
 ],
 "metadata": {
  "kernelspec": {
   "display_name": "tensorkernel",
   "language": "python",
   "name": "tensorkernel"
  },
  "language_info": {
   "codemirror_mode": {
    "name": "ipython",
    "version": 3
   },
   "file_extension": ".py",
   "mimetype": "text/x-python",
   "name": "python",
   "nbconvert_exporter": "python",
   "pygments_lexer": "ipython3",
   "version": "3.10.5"
  }
 },
 "nbformat": 4,
 "nbformat_minor": 5
}
